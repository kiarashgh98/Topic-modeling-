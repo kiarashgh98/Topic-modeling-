{
  "cells": [
    {
      "cell_type": "markdown",
      "metadata": {
        "id": "view-in-github",
        "colab_type": "text"
      },
      "source": [
        "<a href=\"https://colab.research.google.com/github/kiarashgh98/Topic-modeling-/blob/main/1_preprocessing_steps.ipynb\" target=\"_parent\"><img src=\"https://colab.research.google.com/assets/colab-badge.svg\" alt=\"Open In Colab\"/></a>"
      ]
    },
    {
      "cell_type": "code",
      "execution_count": null,
      "metadata": {
        "colab": {
          "base_uri": "https://localhost:8080/"
        },
        "id": "ou-THrx9G4zT",
        "outputId": "d73a7c51-fbc0-4125-e451-085797b327cd"
      },
      "outputs": [
        {
          "output_type": "stream",
          "name": "stdout",
          "text": [
            "Drive already mounted at /content/drive; to attempt to forcibly remount, call drive.mount(\"/content/drive\", force_remount=True).\n"
          ]
        }
      ],
      "source": [
        "from google.colab import drive\n",
        "drive.mount('/content/drive')"
      ]
    },
    {
      "cell_type": "markdown",
      "metadata": {
        "id": "1_8CH0QXjL1k"
      },
      "source": [
        "# **Imports and Downloads 📢**"
      ]
    },
    {
      "cell_type": "markdown",
      "metadata": {
        "id": "pMBWucO3Yjye"
      },
      "source": [
        "##### Import Packages"
      ]
    },
    {
      "cell_type": "code",
      "execution_count": null,
      "metadata": {
        "colab": {
          "base_uri": "https://localhost:8080/"
        },
        "id": "vbDz97PBGkUD",
        "outputId": "c337d5d0-70c9-4c5a-c513-b98dab2aaf1b"
      },
      "outputs": [
        {
          "output_type": "stream",
          "name": "stdout",
          "text": [
            "Requirement already satisfied: spacy_download in /usr/local/lib/python3.10/dist-packages (1.1.0)\n",
            "Requirement already satisfied: spacy<4.0.0,>=3.0.0 in /usr/local/lib/python3.10/dist-packages (from spacy_download) (3.7.6)\n",
            "Requirement already satisfied: spacy-legacy<3.1.0,>=3.0.11 in /usr/local/lib/python3.10/dist-packages (from spacy<4.0.0,>=3.0.0->spacy_download) (3.0.12)\n",
            "Requirement already satisfied: spacy-loggers<2.0.0,>=1.0.0 in /usr/local/lib/python3.10/dist-packages (from spacy<4.0.0,>=3.0.0->spacy_download) (1.0.5)\n",
            "Requirement already satisfied: murmurhash<1.1.0,>=0.28.0 in /usr/local/lib/python3.10/dist-packages (from spacy<4.0.0,>=3.0.0->spacy_download) (1.0.10)\n",
            "Requirement already satisfied: cymem<2.1.0,>=2.0.2 in /usr/local/lib/python3.10/dist-packages (from spacy<4.0.0,>=3.0.0->spacy_download) (2.0.8)\n",
            "Requirement already satisfied: preshed<3.1.0,>=3.0.2 in /usr/local/lib/python3.10/dist-packages (from spacy<4.0.0,>=3.0.0->spacy_download) (3.0.9)\n",
            "Requirement already satisfied: thinc<8.3.0,>=8.2.2 in /usr/local/lib/python3.10/dist-packages (from spacy<4.0.0,>=3.0.0->spacy_download) (8.2.5)\n",
            "Requirement already satisfied: wasabi<1.2.0,>=0.9.1 in /usr/local/lib/python3.10/dist-packages (from spacy<4.0.0,>=3.0.0->spacy_download) (1.1.3)\n",
            "Requirement already satisfied: srsly<3.0.0,>=2.4.3 in /usr/local/lib/python3.10/dist-packages (from spacy<4.0.0,>=3.0.0->spacy_download) (2.4.8)\n",
            "Requirement already satisfied: catalogue<2.1.0,>=2.0.6 in /usr/local/lib/python3.10/dist-packages (from spacy<4.0.0,>=3.0.0->spacy_download) (2.0.10)\n",
            "Requirement already satisfied: weasel<0.5.0,>=0.1.0 in /usr/local/lib/python3.10/dist-packages (from spacy<4.0.0,>=3.0.0->spacy_download) (0.4.1)\n",
            "Requirement already satisfied: typer<1.0.0,>=0.3.0 in /usr/local/lib/python3.10/dist-packages (from spacy<4.0.0,>=3.0.0->spacy_download) (0.12.5)\n",
            "Requirement already satisfied: tqdm<5.0.0,>=4.38.0 in /usr/local/lib/python3.10/dist-packages (from spacy<4.0.0,>=3.0.0->spacy_download) (4.66.5)\n",
            "Requirement already satisfied: requests<3.0.0,>=2.13.0 in /usr/local/lib/python3.10/dist-packages (from spacy<4.0.0,>=3.0.0->spacy_download) (2.32.3)\n",
            "Requirement already satisfied: pydantic!=1.8,!=1.8.1,<3.0.0,>=1.7.4 in /usr/local/lib/python3.10/dist-packages (from spacy<4.0.0,>=3.0.0->spacy_download) (2.8.2)\n",
            "Requirement already satisfied: jinja2 in /usr/local/lib/python3.10/dist-packages (from spacy<4.0.0,>=3.0.0->spacy_download) (3.1.4)\n",
            "Requirement already satisfied: setuptools in /usr/local/lib/python3.10/dist-packages (from spacy<4.0.0,>=3.0.0->spacy_download) (71.0.4)\n",
            "Requirement already satisfied: packaging>=20.0 in /usr/local/lib/python3.10/dist-packages (from spacy<4.0.0,>=3.0.0->spacy_download) (24.1)\n",
            "Requirement already satisfied: langcodes<4.0.0,>=3.2.0 in /usr/local/lib/python3.10/dist-packages (from spacy<4.0.0,>=3.0.0->spacy_download) (3.4.0)\n",
            "Requirement already satisfied: numpy>=1.19.0 in /usr/local/lib/python3.10/dist-packages (from spacy<4.0.0,>=3.0.0->spacy_download) (1.26.4)\n",
            "Requirement already satisfied: language-data>=1.2 in /usr/local/lib/python3.10/dist-packages (from langcodes<4.0.0,>=3.2.0->spacy<4.0.0,>=3.0.0->spacy_download) (1.2.0)\n",
            "Requirement already satisfied: annotated-types>=0.4.0 in /usr/local/lib/python3.10/dist-packages (from pydantic!=1.8,!=1.8.1,<3.0.0,>=1.7.4->spacy<4.0.0,>=3.0.0->spacy_download) (0.7.0)\n",
            "Requirement already satisfied: pydantic-core==2.20.1 in /usr/local/lib/python3.10/dist-packages (from pydantic!=1.8,!=1.8.1,<3.0.0,>=1.7.4->spacy<4.0.0,>=3.0.0->spacy_download) (2.20.1)\n",
            "Requirement already satisfied: typing-extensions>=4.6.1 in /usr/local/lib/python3.10/dist-packages (from pydantic!=1.8,!=1.8.1,<3.0.0,>=1.7.4->spacy<4.0.0,>=3.0.0->spacy_download) (4.12.2)\n",
            "Requirement already satisfied: charset-normalizer<4,>=2 in /usr/local/lib/python3.10/dist-packages (from requests<3.0.0,>=2.13.0->spacy<4.0.0,>=3.0.0->spacy_download) (3.3.2)\n",
            "Requirement already satisfied: idna<4,>=2.5 in /usr/local/lib/python3.10/dist-packages (from requests<3.0.0,>=2.13.0->spacy<4.0.0,>=3.0.0->spacy_download) (3.8)\n",
            "Requirement already satisfied: urllib3<3,>=1.21.1 in /usr/local/lib/python3.10/dist-packages (from requests<3.0.0,>=2.13.0->spacy<4.0.0,>=3.0.0->spacy_download) (2.0.7)\n",
            "Requirement already satisfied: certifi>=2017.4.17 in /usr/local/lib/python3.10/dist-packages (from requests<3.0.0,>=2.13.0->spacy<4.0.0,>=3.0.0->spacy_download) (2024.7.4)\n",
            "Requirement already satisfied: blis<0.8.0,>=0.7.8 in /usr/local/lib/python3.10/dist-packages (from thinc<8.3.0,>=8.2.2->spacy<4.0.0,>=3.0.0->spacy_download) (0.7.11)\n",
            "Requirement already satisfied: confection<1.0.0,>=0.0.1 in /usr/local/lib/python3.10/dist-packages (from thinc<8.3.0,>=8.2.2->spacy<4.0.0,>=3.0.0->spacy_download) (0.1.5)\n",
            "Requirement already satisfied: click>=8.0.0 in /usr/local/lib/python3.10/dist-packages (from typer<1.0.0,>=0.3.0->spacy<4.0.0,>=3.0.0->spacy_download) (8.1.7)\n",
            "Requirement already satisfied: shellingham>=1.3.0 in /usr/local/lib/python3.10/dist-packages (from typer<1.0.0,>=0.3.0->spacy<4.0.0,>=3.0.0->spacy_download) (1.5.4)\n",
            "Requirement already satisfied: rich>=10.11.0 in /usr/local/lib/python3.10/dist-packages (from typer<1.0.0,>=0.3.0->spacy<4.0.0,>=3.0.0->spacy_download) (13.8.0)\n",
            "Requirement already satisfied: cloudpathlib<1.0.0,>=0.7.0 in /usr/local/lib/python3.10/dist-packages (from weasel<0.5.0,>=0.1.0->spacy<4.0.0,>=3.0.0->spacy_download) (0.18.1)\n",
            "Requirement already satisfied: smart-open<8.0.0,>=5.2.1 in /usr/local/lib/python3.10/dist-packages (from weasel<0.5.0,>=0.1.0->spacy<4.0.0,>=3.0.0->spacy_download) (7.0.4)\n",
            "Requirement already satisfied: MarkupSafe>=2.0 in /usr/local/lib/python3.10/dist-packages (from jinja2->spacy<4.0.0,>=3.0.0->spacy_download) (2.1.5)\n",
            "Requirement already satisfied: marisa-trie>=0.7.7 in /usr/local/lib/python3.10/dist-packages (from language-data>=1.2->langcodes<4.0.0,>=3.2.0->spacy<4.0.0,>=3.0.0->spacy_download) (1.2.0)\n",
            "Requirement already satisfied: markdown-it-py>=2.2.0 in /usr/local/lib/python3.10/dist-packages (from rich>=10.11.0->typer<1.0.0,>=0.3.0->spacy<4.0.0,>=3.0.0->spacy_download) (3.0.0)\n",
            "Requirement already satisfied: pygments<3.0.0,>=2.13.0 in /usr/local/lib/python3.10/dist-packages (from rich>=10.11.0->typer<1.0.0,>=0.3.0->spacy<4.0.0,>=3.0.0->spacy_download) (2.16.1)\n",
            "Requirement already satisfied: wrapt in /usr/local/lib/python3.10/dist-packages (from smart-open<8.0.0,>=5.2.1->weasel<0.5.0,>=0.1.0->spacy<4.0.0,>=3.0.0->spacy_download) (1.16.0)\n",
            "Requirement already satisfied: mdurl~=0.1 in /usr/local/lib/python3.10/dist-packages (from markdown-it-py>=2.2.0->rich>=10.11.0->typer<1.0.0,>=0.3.0->spacy<4.0.0,>=3.0.0->spacy_download) (0.1.2)\n"
          ]
        }
      ],
      "source": [
        "!pip install spacy_download"
      ]
    },
    {
      "cell_type": "code",
      "execution_count": null,
      "metadata": {
        "id": "hEx7qZcViYvw"
      },
      "outputs": [],
      "source": [
        "# Standard libraries\n",
        "import re\n",
        "import string\n",
        "from collections import defaultdict\n",
        "\n",
        "# Data manipulation and analysis\n",
        "import pandas as pd\n",
        "\n",
        "# Text processing and analysis\n",
        "import nltk\n",
        "from nltk import pos_tag\n",
        "from nltk.tokenize import word_tokenize\n",
        "from spacy_download import load_spacy\n",
        "from nltk.stem import WordNetLemmatizer\n",
        "from nltk.corpus import stopwords, wordnet\n",
        "\n",
        "# Modeling and analysis\n",
        "from gensim.models import Phrases\n",
        "from gensim.models.phrases import Phraser"
      ]
    },
    {
      "cell_type": "markdown",
      "metadata": {
        "id": "CZSi8nNfZGhR"
      },
      "source": [
        "##### Download NLTK resources"
      ]
    },
    {
      "cell_type": "code",
      "execution_count": null,
      "metadata": {
        "colab": {
          "base_uri": "https://localhost:8080/"
        },
        "id": "yPNuRDnoiblp",
        "outputId": "1cc4b0a8-30bb-4de1-f207-d2a1b12b1c1b"
      },
      "outputs": [
        {
          "output_type": "stream",
          "name": "stderr",
          "text": [
            "[nltk_data] Downloading package stopwords to /root/nltk_data...\n",
            "[nltk_data]   Package stopwords is already up-to-date!\n",
            "[nltk_data] Downloading package punkt to /root/nltk_data...\n",
            "[nltk_data]   Package punkt is already up-to-date!\n",
            "[nltk_data] Downloading package averaged_perceptron_tagger to\n",
            "[nltk_data]     /root/nltk_data...\n",
            "[nltk_data]   Package averaged_perceptron_tagger is already up-to-\n",
            "[nltk_data]       date!\n",
            "[nltk_data] Downloading package wordnet to /root/nltk_data...\n",
            "[nltk_data]   Package wordnet is already up-to-date!\n"
          ]
        },
        {
          "output_type": "execute_result",
          "data": {
            "text/plain": [
              "True"
            ]
          },
          "metadata": {},
          "execution_count": 14
        }
      ],
      "source": [
        "nltk.download('stopwords')\n",
        "nltk.download('punkt')\n",
        "nltk.download('averaged_perceptron_tagger')\n",
        "nltk.download('wordnet')"
      ]
    },
    {
      "cell_type": "markdown",
      "metadata": {
        "id": "pC_rZ9-xjSHh"
      },
      "source": [
        "# **Dataset 🗂️**"
      ]
    },
    {
      "cell_type": "markdown",
      "metadata": {
        "id": "znVOic0S2Sho"
      },
      "source": [
        "### Open CSV File"
      ]
    },
    {
      "cell_type": "code",
      "execution_count": null,
      "metadata": {
        "id": "_dQYC6HdikuY"
      },
      "outputs": [],
      "source": [
        "# Using on_bad_lines (pandas 1.3.0 and above)\n",
        "org_df = pd.read_csv('/content/drive/MyDrive/Kiarash/New Codes/scopus.csv')\n",
        "df = org_df"
      ]
    },
    {
      "cell_type": "markdown",
      "metadata": {
        "id": "LyQgNXYaXmvQ"
      },
      "source": [
        "# **Pre-Processing 🧰**"
      ]
    },
    {
      "cell_type": "markdown",
      "metadata": {
        "id": "JXmICJfu2bf-"
      },
      "source": [
        "##### Fill missing values in all columns of Dataframe\n"
      ]
    },
    {
      "cell_type": "code",
      "execution_count": null,
      "metadata": {
        "id": "Uj1gSLS62ZOX"
      },
      "outputs": [],
      "source": [
        "df = df.fillna('')"
      ]
    },
    {
      "cell_type": "markdown",
      "metadata": {
        "id": "cAcoVUJv2d-R"
      },
      "source": [
        "##### Concatenate 'Article Title', 'Author Keywords', and 'Abstract' for each paper"
      ]
    },
    {
      "cell_type": "code",
      "source": [
        "df"
      ],
      "metadata": {
        "colab": {
          "base_uri": "https://localhost:8080/"
        },
        "id": "bTK9k973tcAo",
        "outputId": "4c431087-95fb-4420-ec18-1cebcb9774fe"
      },
      "execution_count": null,
      "outputs": [
        {
          "output_type": "execute_result",
          "data": {
            "text/plain": [
              "                                                 Authors  \\\n",
              "0                Schilling-Vacaflor A.; Gustafsson M.-T.   \n",
              "1                                   Alegoz M.; Karaer Ö.   \n",
              "2      Shubailat O.M.; Al-Zaqeba M.A.A.; Madi A.; Aba...   \n",
              "3                                 Untari D.T.; Satria B.   \n",
              "4      Wiyono A.; Aziz M.; Sholehudin A.; Sukrawan Y....   \n",
              "...                                                  ...   \n",
              "16899                 Vokurka R.J.; Zank G.M.; Lund C.M.   \n",
              "16900                              Bon R.; Hutchinson K.   \n",
              "16901                     Leiper Q.J.; Riley P.; Uren S.   \n",
              "16902                         Hendrickson C.; Horvath A.   \n",
              "16903  Guide Jr. V.D.R.; Jayaraman V.; Srivastava R.;...   \n",
              "\n",
              "                                       Author full names  \\\n",
              "0      Schilling-Vacaflor, Almut (25622806800); Gusta...   \n",
              "1      Alegoz, Mehmet (56440183900); Karaer, Özgen (2...   \n",
              "2      Shubailat, Omar M. (55173652900); Al-Zaqeba, M...   \n",
              "3      Untari, Dhian Tyas (57200115567); Satria, Budi...   \n",
              "4      Wiyono, Apri (57200074311); Aziz, Muhammad (56...   \n",
              "...                                                  ...   \n",
              "16899  Vokurka, Robert J. (7003301962); Zank, Gail M....   \n",
              "16900  Bon, Ranko (56188046500); Hutchinson, Keith (8...   \n",
              "16901  Leiper, Q.J. (6603343238); Riley, P. (58334743...   \n",
              "16902  Hendrickson, Chris (7103346384); Horvath, Arpa...   \n",
              "16903  Guide Jr., V. Daniel R. (55947490000); Jayaram...   \n",
              "\n",
              "                                            Author(s) ID  \\\n",
              "0                               25622806800; 56650651900   \n",
              "1                               56440183900; 23009017400   \n",
              "2      55173652900; 57216440210; 57190396548; 5720923...   \n",
              "3                               57200115567; 57830887900   \n",
              "4      57200074311; 56436934500; 58903039800; 5720502...   \n",
              "...                                                  ...   \n",
              "16899                7003301962; 7005913203; 56789613600   \n",
              "16900                            56188046500; 8444651100   \n",
              "16901                6603343238; 58334743800; 6602983003   \n",
              "16902                             7103346384; 7202214379   \n",
              "16903  55947490000; 35606770400; 24428873700; 7006662812   \n",
              "\n",
              "                                                   Title  Year  \\\n",
              "0      Integrating human rights in the sustainability...  2024   \n",
              "1      Compound effect of closing the loop and servit...  2024   \n",
              "2      Customs intelligence and risk management in su...  2024   \n",
              "3      The relationship between supply chain manageme...  2024   \n",
              "4      Syngas optimization and tar reduction via mult...  2024   \n",
              "...                                                  ...   ...   \n",
              "16899  Improving competitiveness through supply chain...  2002   \n",
              "16900  Sustainable construction: Some economic challe...  2000   \n",
              "16901  Environmental challenge for supply-chain manag...  2000   \n",
              "16902  Resource use and environmental emissions of U....  2000   \n",
              "16903  Supply-chain management for recoverable manufa...  2000   \n",
              "\n",
              "                                            Source title  \\\n",
              "0                       Environmental Science and Policy   \n",
              "1          International Journal of Production Economics   \n",
              "2                      Uncertain Supply Chain Management   \n",
              "3                      Uncertain Supply Chain Management   \n",
              "4          South African Journal of Chemical Engineering   \n",
              "...                                                  ...   \n",
              "16899                             Competitiveness Review   \n",
              "16900                  Building Research and Information   \n",
              "16901  Proceedings of the Institution of Civil Engine...   \n",
              "16902  Journal of Construction Engineering and Manage...   \n",
              "16903                                         Interfaces   \n",
              "\n",
              "                                                    Link  \\\n",
              "0      https://www.scopus.com/inward/record.uri?eid=2...   \n",
              "1      https://www.scopus.com/inward/record.uri?eid=2...   \n",
              "2      https://www.scopus.com/inward/record.uri?eid=2...   \n",
              "3      https://www.scopus.com/inward/record.uri?eid=2...   \n",
              "4      https://www.scopus.com/inward/record.uri?eid=2...   \n",
              "...                                                  ...   \n",
              "16899  https://www.scopus.com/inward/record.uri?eid=2...   \n",
              "16900  https://www.scopus.com/inward/record.uri?eid=2...   \n",
              "16901  https://www.scopus.com/inward/record.uri?eid=2...   \n",
              "16902  https://www.scopus.com/inward/record.uri?eid=2...   \n",
              "16903  https://www.scopus.com/inward/record.uri?eid=2...   \n",
              "\n",
              "                                            Affiliations  \\\n",
              "0      Chair of International Business, Society and S...   \n",
              "1      Department of Industrial Engineering, Eskisehi...   \n",
              "2      Business School, German Jordanian University, ...   \n",
              "3      Bhayangkara Jakarta Raya University, Indonesia...   \n",
              "4      Department of Automotive Engineering Education...   \n",
              "...                                                  ...   \n",
              "16899  Texas A&M University, Corpus Christi, United S...   \n",
              "16900  Department of Construction Management and Engi...   \n",
              "16901                                                      \n",
              "16902  Dept. of Civ. and Envir. Engrg., Carnegie Mell...   \n",
              "16903  A. J. Palumbo Sch. of Bus. Admin., 920 Rockwel...   \n",
              "\n",
              "                               Authors with affiliations  \\\n",
              "0      Schilling-Vacaflor A., Chair of International ...   \n",
              "1      Alegoz M., Department of Industrial Engineerin...   \n",
              "2      Shubailat O.M., Business School, German Jordan...   \n",
              "3      Untari D.T., Bhayangkara Jakarta Raya Universi...   \n",
              "4      Wiyono A., Department of Automotive Engineerin...   \n",
              "...                                                  ...   \n",
              "16899  Vokurka R.J., Texas A&M University, Corpus Chr...   \n",
              "16900  Bon R., Department of Construction Management ...   \n",
              "16901                                                      \n",
              "16902  Hendrickson C., Dept. of Civ. and Envir. Engrg...   \n",
              "16903  Guide Jr. V.D.R., A. J. Palumbo Sch. of Bus. A...   \n",
              "\n",
              "                                                Abstract  \\\n",
              "0      In contemporary discourse, the need to address...   \n",
              "1      Companies generally strive to become more sust...   \n",
              "2      In this descriptive analytical study conducted...   \n",
              "3      Betawi Ora is an indigenous tribe that lives i...   \n",
              "4      Biomass stands out as a promising availability...   \n",
              "...                                                  ...   \n",
              "16899  Supply chains can improve their performance by...   \n",
              "16900  Sustainable construction faces economic challe...   \n",
              "16901  Major construction companies typically have ma...   \n",
              "16902  Reducing the environmental effects of construc...   \n",
              "16903  Recoverable manufacturing systems minimize the...   \n",
              "\n",
              "                                         Author Keywords  \\\n",
              "0      Brazil; Environmental governance; Europe; Poli...   \n",
              "1      Closed-loop supply chain; Selling; Servitizati...   \n",
              "2      Customs Intelligence; Customs Regulations; Dat...   \n",
              "3      Betawi Ora; Eco-culinary Product; Environmenta...   \n",
              "4      Catalyst pore; Catalyzer; Energy; Multistage c...   \n",
              "...                                                  ...   \n",
              "16899                                                      \n",
              "16900  Economics; Environment; Policy tools; Regulati...   \n",
              "16901                                                      \n",
              "16902                                                      \n",
              "16903                                                      \n",
              "\n",
              "                                               Publisher  \\\n",
              "0                                           Elsevier Ltd   \n",
              "1                                          Elsevier B.V.   \n",
              "2                                        Growing Science   \n",
              "3                                        Growing Science   \n",
              "4                                          Elsevier B.V.   \n",
              "...                                                  ...   \n",
              "16899                      Emerald Group Publishing Ltd.   \n",
              "16900                                          Routledge   \n",
              "16901                        Thomas Telford Services Ltd   \n",
              "16902                                               ASCE   \n",
              "16903  Institute for Operations Research and Manageme...   \n",
              "\n",
              "                                           Combined_Text  \n",
              "0      Integrating human rights in the sustainability...  \n",
              "1      Compound effect of closing the loop and servit...  \n",
              "2      Customs intelligence and risk management in su...  \n",
              "3      The relationship between supply chain manageme...  \n",
              "4      Syngas optimization and tar reduction via mult...  \n",
              "...                                                  ...  \n",
              "16899  Improving competitiveness through supply chain...  \n",
              "16900  Sustainable construction: Some economic challe...  \n",
              "16901  Environmental challenge for supply-chain manag...  \n",
              "16902  Resource use and environmental emissions of U....  \n",
              "16903  Supply-chain management for recoverable manufa...  \n",
              "\n",
              "[16904 rows x 13 columns]"
            ],
            "text/html": [
              "\n",
              "  <div id=\"df-726f23d2-b943-496f-8b86-ca3599ea49b4\" class=\"colab-df-container\">\n",
              "    <div>\n",
              "<style scoped>\n",
              "    .dataframe tbody tr th:only-of-type {\n",
              "        vertical-align: middle;\n",
              "    }\n",
              "\n",
              "    .dataframe tbody tr th {\n",
              "        vertical-align: top;\n",
              "    }\n",
              "\n",
              "    .dataframe thead th {\n",
              "        text-align: right;\n",
              "    }\n",
              "</style>\n",
              "<table border=\"1\" class=\"dataframe\">\n",
              "  <thead>\n",
              "    <tr style=\"text-align: right;\">\n",
              "      <th></th>\n",
              "      <th>Authors</th>\n",
              "      <th>Author full names</th>\n",
              "      <th>Author(s) ID</th>\n",
              "      <th>Title</th>\n",
              "      <th>Year</th>\n",
              "      <th>Source title</th>\n",
              "      <th>Link</th>\n",
              "      <th>Affiliations</th>\n",
              "      <th>Authors with affiliations</th>\n",
              "      <th>Abstract</th>\n",
              "      <th>Author Keywords</th>\n",
              "      <th>Publisher</th>\n",
              "      <th>Combined_Text</th>\n",
              "    </tr>\n",
              "  </thead>\n",
              "  <tbody>\n",
              "    <tr>\n",
              "      <th>0</th>\n",
              "      <td>Schilling-Vacaflor A.; Gustafsson M.-T.</td>\n",
              "      <td>Schilling-Vacaflor, Almut (25622806800); Gusta...</td>\n",
              "      <td>25622806800; 56650651900</td>\n",
              "      <td>Integrating human rights in the sustainability...</td>\n",
              "      <td>2024</td>\n",
              "      <td>Environmental Science and Policy</td>\n",
              "      <td>https://www.scopus.com/inward/record.uri?eid=2...</td>\n",
              "      <td>Chair of International Business, Society and S...</td>\n",
              "      <td>Schilling-Vacaflor A., Chair of International ...</td>\n",
              "      <td>In contemporary discourse, the need to address...</td>\n",
              "      <td>Brazil; Environmental governance; Europe; Poli...</td>\n",
              "      <td>Elsevier Ltd</td>\n",
              "      <td>Integrating human rights in the sustainability...</td>\n",
              "    </tr>\n",
              "    <tr>\n",
              "      <th>1</th>\n",
              "      <td>Alegoz M.; Karaer Ö.</td>\n",
              "      <td>Alegoz, Mehmet (56440183900); Karaer, Özgen (2...</td>\n",
              "      <td>56440183900; 23009017400</td>\n",
              "      <td>Compound effect of closing the loop and servit...</td>\n",
              "      <td>2024</td>\n",
              "      <td>International Journal of Production Economics</td>\n",
              "      <td>https://www.scopus.com/inward/record.uri?eid=2...</td>\n",
              "      <td>Department of Industrial Engineering, Eskisehi...</td>\n",
              "      <td>Alegoz M., Department of Industrial Engineerin...</td>\n",
              "      <td>Companies generally strive to become more sust...</td>\n",
              "      <td>Closed-loop supply chain; Selling; Servitizati...</td>\n",
              "      <td>Elsevier B.V.</td>\n",
              "      <td>Compound effect of closing the loop and servit...</td>\n",
              "    </tr>\n",
              "    <tr>\n",
              "      <th>2</th>\n",
              "      <td>Shubailat O.M.; Al-Zaqeba M.A.A.; Madi A.; Aba...</td>\n",
              "      <td>Shubailat, Omar M. (55173652900); Al-Zaqeba, M...</td>\n",
              "      <td>55173652900; 57216440210; 57190396548; 5720923...</td>\n",
              "      <td>Customs intelligence and risk management in su...</td>\n",
              "      <td>2024</td>\n",
              "      <td>Uncertain Supply Chain Management</td>\n",
              "      <td>https://www.scopus.com/inward/record.uri?eid=2...</td>\n",
              "      <td>Business School, German Jordanian University, ...</td>\n",
              "      <td>Shubailat O.M., Business School, German Jordan...</td>\n",
              "      <td>In this descriptive analytical study conducted...</td>\n",
              "      <td>Customs Intelligence; Customs Regulations; Dat...</td>\n",
              "      <td>Growing Science</td>\n",
              "      <td>Customs intelligence and risk management in su...</td>\n",
              "    </tr>\n",
              "    <tr>\n",
              "      <th>3</th>\n",
              "      <td>Untari D.T.; Satria B.</td>\n",
              "      <td>Untari, Dhian Tyas (57200115567); Satria, Budi...</td>\n",
              "      <td>57200115567; 57830887900</td>\n",
              "      <td>The relationship between supply chain manageme...</td>\n",
              "      <td>2024</td>\n",
              "      <td>Uncertain Supply Chain Management</td>\n",
              "      <td>https://www.scopus.com/inward/record.uri?eid=2...</td>\n",
              "      <td>Bhayangkara Jakarta Raya University, Indonesia...</td>\n",
              "      <td>Untari D.T., Bhayangkara Jakarta Raya Universi...</td>\n",
              "      <td>Betawi Ora is an indigenous tribe that lives i...</td>\n",
              "      <td>Betawi Ora; Eco-culinary Product; Environmenta...</td>\n",
              "      <td>Growing Science</td>\n",
              "      <td>The relationship between supply chain manageme...</td>\n",
              "    </tr>\n",
              "    <tr>\n",
              "      <th>4</th>\n",
              "      <td>Wiyono A.; Aziz M.; Sholehudin A.; Sukrawan Y....</td>\n",
              "      <td>Wiyono, Apri (57200074311); Aziz, Muhammad (56...</td>\n",
              "      <td>57200074311; 56436934500; 58903039800; 5720502...</td>\n",
              "      <td>Syngas optimization and tar reduction via mult...</td>\n",
              "      <td>2024</td>\n",
              "      <td>South African Journal of Chemical Engineering</td>\n",
              "      <td>https://www.scopus.com/inward/record.uri?eid=2...</td>\n",
              "      <td>Department of Automotive Engineering Education...</td>\n",
              "      <td>Wiyono A., Department of Automotive Engineerin...</td>\n",
              "      <td>Biomass stands out as a promising availability...</td>\n",
              "      <td>Catalyst pore; Catalyzer; Energy; Multistage c...</td>\n",
              "      <td>Elsevier B.V.</td>\n",
              "      <td>Syngas optimization and tar reduction via mult...</td>\n",
              "    </tr>\n",
              "    <tr>\n",
              "      <th>...</th>\n",
              "      <td>...</td>\n",
              "      <td>...</td>\n",
              "      <td>...</td>\n",
              "      <td>...</td>\n",
              "      <td>...</td>\n",
              "      <td>...</td>\n",
              "      <td>...</td>\n",
              "      <td>...</td>\n",
              "      <td>...</td>\n",
              "      <td>...</td>\n",
              "      <td>...</td>\n",
              "      <td>...</td>\n",
              "      <td>...</td>\n",
              "    </tr>\n",
              "    <tr>\n",
              "      <th>16899</th>\n",
              "      <td>Vokurka R.J.; Zank G.M.; Lund C.M.</td>\n",
              "      <td>Vokurka, Robert J. (7003301962); Zank, Gail M....</td>\n",
              "      <td>7003301962; 7005913203; 56789613600</td>\n",
              "      <td>Improving competitiveness through supply chain...</td>\n",
              "      <td>2002</td>\n",
              "      <td>Competitiveness Review</td>\n",
              "      <td>https://www.scopus.com/inward/record.uri?eid=2...</td>\n",
              "      <td>Texas A&amp;M University, Corpus Christi, United S...</td>\n",
              "      <td>Vokurka R.J., Texas A&amp;M University, Corpus Chr...</td>\n",
              "      <td>Supply chains can improve their performance by...</td>\n",
              "      <td></td>\n",
              "      <td>Emerald Group Publishing Ltd.</td>\n",
              "      <td>Improving competitiveness through supply chain...</td>\n",
              "    </tr>\n",
              "    <tr>\n",
              "      <th>16900</th>\n",
              "      <td>Bon R.; Hutchinson K.</td>\n",
              "      <td>Bon, Ranko (56188046500); Hutchinson, Keith (8...</td>\n",
              "      <td>56188046500; 8444651100</td>\n",
              "      <td>Sustainable construction: Some economic challe...</td>\n",
              "      <td>2000</td>\n",
              "      <td>Building Research and Information</td>\n",
              "      <td>https://www.scopus.com/inward/record.uri?eid=2...</td>\n",
              "      <td>Department of Construction Management and Engi...</td>\n",
              "      <td>Bon R., Department of Construction Management ...</td>\n",
              "      <td>Sustainable construction faces economic challe...</td>\n",
              "      <td>Economics; Environment; Policy tools; Regulati...</td>\n",
              "      <td>Routledge</td>\n",
              "      <td>Sustainable construction: Some economic challe...</td>\n",
              "    </tr>\n",
              "    <tr>\n",
              "      <th>16901</th>\n",
              "      <td>Leiper Q.J.; Riley P.; Uren S.</td>\n",
              "      <td>Leiper, Q.J. (6603343238); Riley, P. (58334743...</td>\n",
              "      <td>6603343238; 58334743800; 6602983003</td>\n",
              "      <td>Environmental challenge for supply-chain manag...</td>\n",
              "      <td>2000</td>\n",
              "      <td>Proceedings of the Institution of Civil Engine...</td>\n",
              "      <td>https://www.scopus.com/inward/record.uri?eid=2...</td>\n",
              "      <td></td>\n",
              "      <td></td>\n",
              "      <td>Major construction companies typically have ma...</td>\n",
              "      <td></td>\n",
              "      <td>Thomas Telford Services Ltd</td>\n",
              "      <td>Environmental challenge for supply-chain manag...</td>\n",
              "    </tr>\n",
              "    <tr>\n",
              "      <th>16902</th>\n",
              "      <td>Hendrickson C.; Horvath A.</td>\n",
              "      <td>Hendrickson, Chris (7103346384); Horvath, Arpa...</td>\n",
              "      <td>7103346384; 7202214379</td>\n",
              "      <td>Resource use and environmental emissions of U....</td>\n",
              "      <td>2000</td>\n",
              "      <td>Journal of Construction Engineering and Manage...</td>\n",
              "      <td>https://www.scopus.com/inward/record.uri?eid=2...</td>\n",
              "      <td>Dept. of Civ. and Envir. Engrg., Carnegie Mell...</td>\n",
              "      <td>Hendrickson C., Dept. of Civ. and Envir. Engrg...</td>\n",
              "      <td>Reducing the environmental effects of construc...</td>\n",
              "      <td></td>\n",
              "      <td>ASCE</td>\n",
              "      <td>Resource use and environmental emissions of U....</td>\n",
              "    </tr>\n",
              "    <tr>\n",
              "      <th>16903</th>\n",
              "      <td>Guide Jr. V.D.R.; Jayaraman V.; Srivastava R.;...</td>\n",
              "      <td>Guide Jr., V. Daniel R. (55947490000); Jayaram...</td>\n",
              "      <td>55947490000; 35606770400; 24428873700; 7006662812</td>\n",
              "      <td>Supply-chain management for recoverable manufa...</td>\n",
              "      <td>2000</td>\n",
              "      <td>Interfaces</td>\n",
              "      <td>https://www.scopus.com/inward/record.uri?eid=2...</td>\n",
              "      <td>A. J. Palumbo Sch. of Bus. Admin., 920 Rockwel...</td>\n",
              "      <td>Guide Jr. V.D.R., A. J. Palumbo Sch. of Bus. A...</td>\n",
              "      <td>Recoverable manufacturing systems minimize the...</td>\n",
              "      <td></td>\n",
              "      <td>Institute for Operations Research and Manageme...</td>\n",
              "      <td>Supply-chain management for recoverable manufa...</td>\n",
              "    </tr>\n",
              "  </tbody>\n",
              "</table>\n",
              "<p>16904 rows × 13 columns</p>\n",
              "</div>\n",
              "    <div class=\"colab-df-buttons\">\n",
              "\n",
              "  <div class=\"colab-df-container\">\n",
              "    <button class=\"colab-df-convert\" onclick=\"convertToInteractive('df-726f23d2-b943-496f-8b86-ca3599ea49b4')\"\n",
              "            title=\"Convert this dataframe to an interactive table.\"\n",
              "            style=\"display:none;\">\n",
              "\n",
              "  <svg xmlns=\"http://www.w3.org/2000/svg\" height=\"24px\" viewBox=\"0 -960 960 960\">\n",
              "    <path d=\"M120-120v-720h720v720H120Zm60-500h600v-160H180v160Zm220 220h160v-160H400v160Zm0 220h160v-160H400v160ZM180-400h160v-160H180v160Zm440 0h160v-160H620v160ZM180-180h160v-160H180v160Zm440 0h160v-160H620v160Z\"/>\n",
              "  </svg>\n",
              "    </button>\n",
              "\n",
              "  <style>\n",
              "    .colab-df-container {\n",
              "      display:flex;\n",
              "      gap: 12px;\n",
              "    }\n",
              "\n",
              "    .colab-df-convert {\n",
              "      background-color: #E8F0FE;\n",
              "      border: none;\n",
              "      border-radius: 50%;\n",
              "      cursor: pointer;\n",
              "      display: none;\n",
              "      fill: #1967D2;\n",
              "      height: 32px;\n",
              "      padding: 0 0 0 0;\n",
              "      width: 32px;\n",
              "    }\n",
              "\n",
              "    .colab-df-convert:hover {\n",
              "      background-color: #E2EBFA;\n",
              "      box-shadow: 0px 1px 2px rgba(60, 64, 67, 0.3), 0px 1px 3px 1px rgba(60, 64, 67, 0.15);\n",
              "      fill: #174EA6;\n",
              "    }\n",
              "\n",
              "    .colab-df-buttons div {\n",
              "      margin-bottom: 4px;\n",
              "    }\n",
              "\n",
              "    [theme=dark] .colab-df-convert {\n",
              "      background-color: #3B4455;\n",
              "      fill: #D2E3FC;\n",
              "    }\n",
              "\n",
              "    [theme=dark] .colab-df-convert:hover {\n",
              "      background-color: #434B5C;\n",
              "      box-shadow: 0px 1px 3px 1px rgba(0, 0, 0, 0.15);\n",
              "      filter: drop-shadow(0px 1px 2px rgba(0, 0, 0, 0.3));\n",
              "      fill: #FFFFFF;\n",
              "    }\n",
              "  </style>\n",
              "\n",
              "    <script>\n",
              "      const buttonEl =\n",
              "        document.querySelector('#df-726f23d2-b943-496f-8b86-ca3599ea49b4 button.colab-df-convert');\n",
              "      buttonEl.style.display =\n",
              "        google.colab.kernel.accessAllowed ? 'block' : 'none';\n",
              "\n",
              "      async function convertToInteractive(key) {\n",
              "        const element = document.querySelector('#df-726f23d2-b943-496f-8b86-ca3599ea49b4');\n",
              "        const dataTable =\n",
              "          await google.colab.kernel.invokeFunction('convertToInteractive',\n",
              "                                                    [key], {});\n",
              "        if (!dataTable) return;\n",
              "\n",
              "        const docLinkHtml = 'Like what you see? Visit the ' +\n",
              "          '<a target=\"_blank\" href=https://colab.research.google.com/notebooks/data_table.ipynb>data table notebook</a>'\n",
              "          + ' to learn more about interactive tables.';\n",
              "        element.innerHTML = '';\n",
              "        dataTable['output_type'] = 'display_data';\n",
              "        await google.colab.output.renderOutput(dataTable, element);\n",
              "        const docLink = document.createElement('div');\n",
              "        docLink.innerHTML = docLinkHtml;\n",
              "        element.appendChild(docLink);\n",
              "      }\n",
              "    </script>\n",
              "  </div>\n",
              "\n",
              "\n",
              "<div id=\"df-93ba1063-4f52-4ac8-ab6c-aa92b52fd5a2\">\n",
              "  <button class=\"colab-df-quickchart\" onclick=\"quickchart('df-93ba1063-4f52-4ac8-ab6c-aa92b52fd5a2')\"\n",
              "            title=\"Suggest charts\"\n",
              "            style=\"display:none;\">\n",
              "\n",
              "<svg xmlns=\"http://www.w3.org/2000/svg\" height=\"24px\"viewBox=\"0 0 24 24\"\n",
              "     width=\"24px\">\n",
              "    <g>\n",
              "        <path d=\"M19 3H5c-1.1 0-2 .9-2 2v14c0 1.1.9 2 2 2h14c1.1 0 2-.9 2-2V5c0-1.1-.9-2-2-2zM9 17H7v-7h2v7zm4 0h-2V7h2v10zm4 0h-2v-4h2v4z\"/>\n",
              "    </g>\n",
              "</svg>\n",
              "  </button>\n",
              "\n",
              "<style>\n",
              "  .colab-df-quickchart {\n",
              "      --bg-color: #E8F0FE;\n",
              "      --fill-color: #1967D2;\n",
              "      --hover-bg-color: #E2EBFA;\n",
              "      --hover-fill-color: #174EA6;\n",
              "      --disabled-fill-color: #AAA;\n",
              "      --disabled-bg-color: #DDD;\n",
              "  }\n",
              "\n",
              "  [theme=dark] .colab-df-quickchart {\n",
              "      --bg-color: #3B4455;\n",
              "      --fill-color: #D2E3FC;\n",
              "      --hover-bg-color: #434B5C;\n",
              "      --hover-fill-color: #FFFFFF;\n",
              "      --disabled-bg-color: #3B4455;\n",
              "      --disabled-fill-color: #666;\n",
              "  }\n",
              "\n",
              "  .colab-df-quickchart {\n",
              "    background-color: var(--bg-color);\n",
              "    border: none;\n",
              "    border-radius: 50%;\n",
              "    cursor: pointer;\n",
              "    display: none;\n",
              "    fill: var(--fill-color);\n",
              "    height: 32px;\n",
              "    padding: 0;\n",
              "    width: 32px;\n",
              "  }\n",
              "\n",
              "  .colab-df-quickchart:hover {\n",
              "    background-color: var(--hover-bg-color);\n",
              "    box-shadow: 0 1px 2px rgba(60, 64, 67, 0.3), 0 1px 3px 1px rgba(60, 64, 67, 0.15);\n",
              "    fill: var(--button-hover-fill-color);\n",
              "  }\n",
              "\n",
              "  .colab-df-quickchart-complete:disabled,\n",
              "  .colab-df-quickchart-complete:disabled:hover {\n",
              "    background-color: var(--disabled-bg-color);\n",
              "    fill: var(--disabled-fill-color);\n",
              "    box-shadow: none;\n",
              "  }\n",
              "\n",
              "  .colab-df-spinner {\n",
              "    border: 2px solid var(--fill-color);\n",
              "    border-color: transparent;\n",
              "    border-bottom-color: var(--fill-color);\n",
              "    animation:\n",
              "      spin 1s steps(1) infinite;\n",
              "  }\n",
              "\n",
              "  @keyframes spin {\n",
              "    0% {\n",
              "      border-color: transparent;\n",
              "      border-bottom-color: var(--fill-color);\n",
              "      border-left-color: var(--fill-color);\n",
              "    }\n",
              "    20% {\n",
              "      border-color: transparent;\n",
              "      border-left-color: var(--fill-color);\n",
              "      border-top-color: var(--fill-color);\n",
              "    }\n",
              "    30% {\n",
              "      border-color: transparent;\n",
              "      border-left-color: var(--fill-color);\n",
              "      border-top-color: var(--fill-color);\n",
              "      border-right-color: var(--fill-color);\n",
              "    }\n",
              "    40% {\n",
              "      border-color: transparent;\n",
              "      border-right-color: var(--fill-color);\n",
              "      border-top-color: var(--fill-color);\n",
              "    }\n",
              "    60% {\n",
              "      border-color: transparent;\n",
              "      border-right-color: var(--fill-color);\n",
              "    }\n",
              "    80% {\n",
              "      border-color: transparent;\n",
              "      border-right-color: var(--fill-color);\n",
              "      border-bottom-color: var(--fill-color);\n",
              "    }\n",
              "    90% {\n",
              "      border-color: transparent;\n",
              "      border-bottom-color: var(--fill-color);\n",
              "    }\n",
              "  }\n",
              "</style>\n",
              "\n",
              "  <script>\n",
              "    async function quickchart(key) {\n",
              "      const quickchartButtonEl =\n",
              "        document.querySelector('#' + key + ' button');\n",
              "      quickchartButtonEl.disabled = true;  // To prevent multiple clicks.\n",
              "      quickchartButtonEl.classList.add('colab-df-spinner');\n",
              "      try {\n",
              "        const charts = await google.colab.kernel.invokeFunction(\n",
              "            'suggestCharts', [key], {});\n",
              "      } catch (error) {\n",
              "        console.error('Error during call to suggestCharts:', error);\n",
              "      }\n",
              "      quickchartButtonEl.classList.remove('colab-df-spinner');\n",
              "      quickchartButtonEl.classList.add('colab-df-quickchart-complete');\n",
              "    }\n",
              "    (() => {\n",
              "      let quickchartButtonEl =\n",
              "        document.querySelector('#df-93ba1063-4f52-4ac8-ab6c-aa92b52fd5a2 button');\n",
              "      quickchartButtonEl.style.display =\n",
              "        google.colab.kernel.accessAllowed ? 'block' : 'none';\n",
              "    })();\n",
              "  </script>\n",
              "</div>\n",
              "    </div>\n",
              "  </div>\n"
            ],
            "application/vnd.google.colaboratory.intrinsic+json": {
              "type": "dataframe",
              "variable_name": "df",
              "summary": "{\n  \"name\": \"df\",\n  \"rows\": 16904,\n  \"fields\": [\n    {\n      \"column\": \"Authors\",\n      \"properties\": {\n        \"dtype\": \"string\",\n        \"num_unique_values\": 16140,\n        \"samples\": [\n          \"Di Donato P.; Finore I.; Poli A.; Nicolaus B.; Lama L.\",\n          \"Henriques C.; Garnett K.; Weatherhead E.K.; Lickorish F.A.; Forrow D.; Delgado J.\",\n          \"Li C.-B.; Chen H.-Y.; Zhu J.; Zuo J.; Zillante G.; Zhao Z.-Y.\"\n        ],\n        \"semantic_type\": \"\",\n        \"description\": \"\"\n      }\n    },\n    {\n      \"column\": \"Author full names\",\n      \"properties\": {\n        \"dtype\": \"string\",\n        \"num_unique_values\": 16215,\n        \"samples\": [\n          \"Perkiss, Stephanie (57193267625); McIlgorm, Alistair (6507295837); Nichols, Rachel (57617656100); Lewis, Anna R. (57226145160); Lal, Kirti K. (37031549500); Voyer, Michelle (49962707900)\",\n          \"Balan, Shilpa (57197377653); Conlon, Sumali (7003805160)\",\n          \"Kumari, Mamta (57222570486); Kanti De, Pijus (57222759263); Narang, Pankaj (57975979600); Shah, Nita H. (7401824102)\"\n        ],\n        \"semantic_type\": \"\",\n        \"description\": \"\"\n      }\n    },\n    {\n      \"column\": \"Author(s) ID\",\n      \"properties\": {\n        \"dtype\": \"string\",\n        \"num_unique_values\": 16077,\n        \"samples\": [\n          \"55761157600\",\n          \"55386682400; 58614160300; 15838243100; 58614160400\",\n          \"58070571700; 57190407906; 57190412088; 57204104897; 57191201677; 57203870248; 55512419100\"\n        ],\n        \"semantic_type\": \"\",\n        \"description\": \"\"\n      }\n    },\n    {\n      \"column\": \"Title\",\n      \"properties\": {\n        \"dtype\": \"string\",\n        \"num_unique_values\": 16879,\n        \"samples\": [\n          \"Does construct multidimensionality matter? A nuanced examination of the relationship among supply chain integration, green supply chain management, and business performance\",\n          \"The determinants of contraception use amongst female patients attending odi district hospital, Gauteng province, South Africa\",\n          \"Industry 4.0 quasi-effect between circular economy and sustainability: Palm oil industry\"\n        ],\n        \"semantic_type\": \"\",\n        \"description\": \"\"\n      }\n    },\n    {\n      \"column\": \"Year\",\n      \"properties\": {\n        \"dtype\": \"number\",\n        \"std\": 4,\n        \"min\": 2000,\n        \"max\": 2024,\n        \"num_unique_values\": 25,\n        \"samples\": [\n          2016,\n          2008,\n          2024\n        ],\n        \"semantic_type\": \"\",\n        \"description\": \"\"\n      }\n    },\n    {\n      \"column\": \"Source title\",\n      \"properties\": {\n        \"dtype\": \"category\",\n        \"num_unique_values\": 3015,\n        \"samples\": [\n          \"Fuzzy Optimization and Decision Making\",\n          \"Life Science Journal\",\n          \"Environmental Innovation and Societal Transitions\"\n        ],\n        \"semantic_type\": \"\",\n        \"description\": \"\"\n      }\n    },\n    {\n      \"column\": \"Link\",\n      \"properties\": {\n        \"dtype\": \"string\",\n        \"num_unique_values\": 16904,\n        \"samples\": [\n          \"https://www.scopus.com/inward/record.uri?eid=2-s2.0-77955848632&doi=10.1016%2fj.resconrec.2010.05.005&partnerID=40&md5=9a1a131c324a72991f878ba3bc392157\",\n          \"https://www.scopus.com/inward/record.uri?eid=2-s2.0-84989179371&doi=10.1089%2fhs.2015.0079&partnerID=40&md5=699d29e131563799ce8c001dc68133bf\",\n          \"https://www.scopus.com/inward/record.uri?eid=2-s2.0-85125078588&doi=10.1002%2fbit.28060&partnerID=40&md5=cfa93fc2ccbc6251b913816e067584d6\"\n        ],\n        \"semantic_type\": \"\",\n        \"description\": \"\"\n      }\n    },\n    {\n      \"column\": \"Affiliations\",\n      \"properties\": {\n        \"dtype\": \"string\",\n        \"num_unique_values\": 16120,\n        \"samples\": [\n          \"Department of Management Science, Ghana Institute of Management and Public Administration, Accra, Ghana\",\n          \"University of Debrecen, Hungary; Sz\\u00e9chenyi Istv\\u00e1n University, Faculty of Economics, Hungary; University of Johannesburg, College of Business and Economics, South Africa\",\n          \"The Hague, Netherlands\"\n        ],\n        \"semantic_type\": \"\",\n        \"description\": \"\"\n      }\n    },\n    {\n      \"column\": \"Authors with affiliations\",\n      \"properties\": {\n        \"dtype\": \"string\",\n        \"num_unique_values\": 16505,\n        \"samples\": [\n          \"Gualandris J., Ivey Business School, Western University, London, Canada; Longoni A., ESADE Business School, University Ramon Llull, Barcelona, Spain; Luzzini D., EADA Business School, Barcelona, Spain; Pagell M., Smurfit Business School, University College Dublin, Dublin, Ireland\",\n          \"Navarro-del Aguila I., Department of Economic and Business, University of Almer\\u00eda, Almer\\u00eda, 04120, Spain; de Burgos-Jim\\u00e9nez J., Department of Economic and Business, University of Almer\\u00eda, Almer\\u00eda, 04120, Spain\",\n          \"Zhang Z., Business School, Sichuan University, Chengdu, 610065, Sichuan, China; Guo C., Business School, Sichuan University, Chengdu, 610065, Sichuan, China; Wei Q., ICT for City Logistics and Enterprises Center, Politecnico di Torino, Turin, 10129, Italy; Guo Z., Business School, Sichuan University, Chengdu, 610065, Sichuan, China; Gao L., CSIRO, Waite Campus, Urrbrae, 5064, SA, Australia\"\n        ],\n        \"semantic_type\": \"\",\n        \"description\": \"\"\n      }\n    },\n    {\n      \"column\": \"Abstract\",\n      \"properties\": {\n        \"dtype\": \"string\",\n        \"num_unique_values\": 16824,\n        \"samples\": [\n          \"Sustainable supplier selection (SSS) is recognized as a prime aim in supply chain because of its impression on profitability, adorability, and agility of the organization. This work introduces a multi-phase intuitionistic fuzzy preference-based model with which decision experts are authorized to choose the suitable supplier using the sustainability \\u201ctriple bottom line (TBL)\\u201d attributes. To solve this issue, an intuitionistic fuzzy gained and lost dominance score (IF-GLDS) approach is proposed using the developed IF-entropy. To make better use of experts\\u2019 knowledge and fully represent the uncertain information, the evaluations of SSS are characterized in the form of intuitionistic fuzzy set (IFS). To better distinguish fuzziness of IFSs, new entropy for assessing criteria weights is proposed with the help of an improved score function. By considering the developed entropy and improved score function, a weight-determining process for considered criterion is presented. A case study concerning the iron and steel industry in India for assessing and ranking the SSS is taken to demonstrate the practicability of the developed model. The efficacy of the developed model is certified with the comparison by diverse extant models. \\u00a9 2023 the Author(s), licensee AIMS Press.\",\n          \"The increasing consumption of products in the modern era has caused a growth of the human impact on environmental resources which has created a mandatory transition towards sustainable productive activities and systems results. Agricultural practices entail negative externalities as well as environmental impacts which are generated by different packaging strategies in the product supply chain. This work aims at evaluating an entrepreneur\\u2019s choice aimed at an increasing sustainability and social responsibility of the production process, based on the Life Cycle Thinking method. This method has been adopted to analyse production, consumption and disposal phases of a product, evaluating its environmental impact through a systemic approach. Our analysis compares the environmental and economic impact of the life cycle of the raspberry in two different scenarios: a) conventional production followed by the product sale in plastic containers, and b) sustainable production with a biodegradable packaging. The results of the analysis show that the agricultural supply chain has a remarkable environmental impact; moreover, it should be mentioned that the sustainable scenario causes an increase of the production and transformation costs and, at the same time, a decrease of the societal and environmental impacts of the product. Finally, the adoption of this strategy should be supported by a marketing phase aimed at product enhancement promoting its lower environmental impact. In addition, it should direct consumer choices towards local production ensuring a stable connection with the surrounding territory. \\u00a9 2018, SRAC - Romanian Society for Quality. All rights reserved.\",\n          \"Carbon emission plays a vital role in global warming. In addition to this, wastages due to the deterioration have a hazardous impact on the ecosystem. The responsible managers\\u2019 primary concern is to form a sustainable supply chain. Further, supply chain managers select some appropriate combinations when dealing with items that possess cross-price elasticity of demand to make a profitable system. The present model aims to make a sustainable supply chain to reduce waste by obtaining the optimal values of production rate, batch size, several shipments, and preservation investment such that the total profit of the system is maximum. In the present study, a supply chain model with two manufacturers and one common retailer is developed. The proposed supply chain deals with products having negative or positive cross-price elasticity of demand. The carbon emission is also considered, which is associated with different operational activities of inventory such as preparation of setup of manufacturers, transportation of products, waste management, and holding stock at manufacturers and the retailer's end. The objective function in the present study is a mixed-integer nonlinear optimization problem. A solution methodology based on differential calculus is adopted. The result shows that products of low negative or high positive cross-price elasticity are a profitable combination. Additionally, a 20% reduction in wastage quantity is observed due to the investment in preservation technology. This result indicates that preservation technology positively impacts the environment and the finance associated with the inventory system. The proposed integrated system's sustainability is illustrated with numerical examples, sensitivity analysis, and pictorial representation. In addition to this, several valuable managerial insights based on the study are provided. \\u00a9 2021 Elsevier Ltd\"\n        ],\n        \"semantic_type\": \"\",\n        \"description\": \"\"\n      }\n    },\n    {\n      \"column\": \"Author Keywords\",\n      \"properties\": {\n        \"dtype\": \"string\",\n        \"num_unique_values\": 15636,\n        \"samples\": [\n          \"Fuzzy parameters; Pharmaceutical supply chain network; Robust optimization techniques; TBL objectives\",\n          \"Carbon footprint; Climate change; Food supply chain; Land-use; Linear programming; Sustainability\",\n          \"China; Hebei; Low-carbon transition; Regional energy demand\"\n        ],\n        \"semantic_type\": \"\",\n        \"description\": \"\"\n      }\n    },\n    {\n      \"column\": \"Publisher\",\n      \"properties\": {\n        \"dtype\": \"category\",\n        \"num_unique_values\": 984,\n        \"samples\": [\n          \"Iran University of Medical Sciences\",\n          \"Editorial Board of the Journal Economic Policy\",\n          \"MM publishing Ltd.\"\n        ],\n        \"semantic_type\": \"\",\n        \"description\": \"\"\n      }\n    },\n    {\n      \"column\": \"Combined_Text\",\n      \"properties\": {\n        \"dtype\": \"string\",\n        \"num_unique_values\": 16900,\n        \"samples\": [\n          \"Advanced Regional Biomass Processing Depots: A key to the logistical challenges of the cellulosic biofuel industry AFEX; Handling; Logistics; Pre-processing; RBPD; Regional Biomass Processing Depot; Supply chain Interest in commercially viable cellulosic biofuel production has greatly increased due to concerns regarding the sustainability of petroleum fuels. While research into solving the technical issues surrounding cellulosic biofuels is ongoing, much less attention has been paid to solving supply chain challenges such as low bulk density of cellulosic biomass, compositional variability and seasonality of the feedstock, food vs fuel issues, and local environmental concerns. To address these supply chain problems, we explore the concept of Regional Biomass Processing Depots (RBPDs), strategically distributed facilities that procure, pre-process /pre-treat and densify biomass into stable intermediate products that are compatible with existing bulk commodity logistical systems. In this perspective, we discuss the fundamental concept of RBPDs, their functionality, advantages, and potential challenges. We then extend the analysis of depots to include enhanced configurations and discuss some technologies that might be deployed in RBPD networks and the valuable coproducts that might be produced via synergies among these technologies. \\u00a9 2011 Society of Chemical Industry and John Wiley & Sons, Ltd.\",\n          \"Performance of green supply chain management: A systematic review and meta analysis Firm performance; Green supply chain management; Meta analysis; Moderator; Systematic review Environmental sustainability is nowadays driving firms to not only develop internal green activities, but also extend toward green supply chain management (GSCM). The extensive application of external GSCM by firms can be partially justified from perspective of transaction costs. GSCM practices are often considered to be prudent because studies suggested that such practices have a positive impact on firm performance according to the resource-based view. However, crucial questions still surround the practice-performance relationship. First, what is the overall relationship between GSCM practice and firm performance? Second, under what situations is the relationship stronger or weaker? To answer these questions, this paper focuses on quantitatively analyzing extant literature published in the field of GSCM. A random-effects meta-analysis is used to synthesize the empirical results of 54 selected literature with 245 effect sizes. Besides, subgroup analysis and meta-regression are applied to test potential moderators that may influence the strength of practice-performance relationship. We find that, internal and external GSCM practices are positively related, and they are both positively related to firm performance. Particularly, their relationship with environmental (r = 0.518) performance is the largest, followed by operational (r = 0.481) and economic (r = 0.464) performance. In addition, test of moderators discovers that industry type, ISO certification, export orientation and the cultural dimension of uncertainty avoidance all have moderating effect on the practice-performance relationship. Discussions and limitations are further addressed. \\u00a9 2018 Elsevier Ltd\",\n          \"Ultra-centrifugation force in adaptive evolution changes the cell structure of oleaginous yeast Trichosporon cutaneum into a favorable space for lipid accumulation adaptive evolution; cell structure; lignocellulose; microbial lipid; oleaginous yeast; ultra-centrifugation Microbial lipid production from lignocellulose biomass provides an essential option for sustainable and carbon-neutral supply of future aviation fuels, biodiesel, as well as various food and nutrition products. Oleaginous yeast is the major microbial cell factory but its lipid-producing performance is far below the requirements of industrial application. Here we show an ultra-centrifugation fractionation in adaptive evolution (UCF) of Trichosporon cutaneum based on the minor cell density difference. The lightest cells with the maximum intracellular lipid content were isolated by ultra-centrifugation fractionation in the long-term adaptive evolution. Significant changes occurred in the cell morphology with a fragile cell wall wrapping and enlarged intracellular space (two orders of magnitude increase in cell size). Complete and coordinate assimilations of all nonglucose sugars derived from lignocellulose were triggered and fluxed into lipid synthesis. Genome mutations and significant transcriptional regulations of the genes responsible for cell structure were identified and experimentally confirmed. The obtained T. cutaneum MP11 cells achieved a high lipid production of wheat straw, approximately five-fold greater than that of the parental cells. The study provided an effective method for screening the high lipid-containing oleaginous yeast cells as well as the intracellular products accumulating cells in general. \\u00a9 2022 Wiley Periodicals LLC.\"\n        ],\n        \"semantic_type\": \"\",\n        \"description\": \"\"\n      }\n    }\n  ]\n}"
            }
          },
          "metadata": {},
          "execution_count": 22
        }
      ]
    },
    {
      "cell_type": "code",
      "execution_count": null,
      "metadata": {
        "id": "L2ZaDWaD2kmM"
      },
      "outputs": [],
      "source": [
        "df['Combined_Text'] = df['Title'] + ' ' + df['Author Keywords'] + ' ' + df['Abstract']"
      ]
    },
    {
      "cell_type": "markdown",
      "metadata": {
        "id": "rXlDIXwB2D91"
      },
      "source": [
        "##### Convert all words to lowercase and remove punctuation, whitespaces, email addresses, and URLs"
      ]
    },
    {
      "cell_type": "code",
      "execution_count": null,
      "metadata": {
        "id": "S2j1WgUWZD4q"
      },
      "outputs": [],
      "source": [
        "df['Combined_Text'] = df['Combined_Text'].apply(lambda x: re.sub(r'[^\\w\\s]', '', x.lower()))\n",
        "df['Combined_Text'] = df['Combined_Text'].apply(lambda x: re.sub(r'\\b[A-Za-z0-9._%+-]+@[A-Za-z0-9.-]+\\.[A-Z|a-z]{2,}\\b', '', x))\n",
        "df['Combined_Text'] = df['Combined_Text'].apply(lambda x: re.sub(r'(http|https)://[a-zA-Z0-9./?%&=]+', '', x))"
      ]
    },
    {
      "cell_type": "markdown",
      "metadata": {
        "id": "tJ29aPKCGAzE"
      },
      "source": [
        "##### Remove stop words, keywords, misread words, and other non-semantic contributing words \"BEFORE LEMMETIZATION\""
      ]
    },
    {
      "cell_type": "code",
      "source": [
        "# Define additional_stop_words\n",
        "additional_stop_words = ['from', 'subject', 're', 'edu', 'use', 'also', 'first', 'may', 'want', 'data', 'many', 'however',\n",
        "                         'within', 'paper', 'research', 'although', 'across', 'based', 'conclusion', 'conclude', 'one',\n",
        "                         'the', 'method', 'show', 'among', 'two', 'due', 'we', 'this', 'in', 'project',\n",
        "                         'methodological', 'finding', 'new', 'large' , 'min' , ' max' , 'three' , 'set' ,\n",
        "                         'key' , 'take' , 'sc' , 'help' , 'main','model','case','right','find','show','goal','ltd',\n",
        "                         'low','high','factor', 'sustainability','study', 'supplychain', 'supplying', 'supplychains',\n",
        "                         'environmental', 'supplier', 'performance', 'product', 'production', 'industry', 'firm',\n",
        "                         'practice','system', 'supply', 'chain', 'chains' 'sustainable', 'supplied', 'supplier', 'suppliers', 'supplies',\n",
        "                         'management','â', 'analysis', 'impact', 'result', 'provide', 'propose', 'approach', 'develop', 'development']\n",
        "\n",
        "\n",
        "# Remove stop words, misread words, and other non-semantic contributing words\n",
        "stop_words = stopwords.words('english')\n",
        "stop_words.extend(additional_stop_words)\n",
        "df['cleaned_text'] = df['Combined_Text'].apply(lambda text: ' '.join(word for word in word_tokenize(text) if word.isalpha() and word not in stop_words))"
      ],
      "metadata": {
        "id": "T4xk6Uq6AiP1"
      },
      "execution_count": null,
      "outputs": []
    },
    {
      "cell_type": "markdown",
      "source": [
        "##### Detect and create bigrams"
      ],
      "metadata": {
        "id": "UndTbQEnPL7Y"
      }
    },
    {
      "cell_type": "code",
      "source": [
        "sentences = [word_tokenize(text) for text in df['cleaned_text']]\n",
        "bigram = Phrases(sentences, min_count=5, threshold=100)  # Adjust min_count and threshold as needed\n",
        "bigram_mod = Phraser(bigram)\n",
        "\n",
        "df['cleaned_text'] = df['cleaned_text'].apply(lambda text: ' '.join(bigram_mod[word_tokenize(text)]))"
      ],
      "metadata": {
        "id": "Md6o2_xlPOr3"
      },
      "execution_count": null,
      "outputs": []
    },
    {
      "cell_type": "markdown",
      "source": [
        "##### Lemmatize words to their root form"
      ],
      "metadata": {
        "id": "ArJfWTq1CCVf"
      }
    },
    {
      "cell_type": "code",
      "source": [
        "lemmatizer = WordNetLemmatizer()"
      ],
      "metadata": {
        "id": "XBkN0OFWJZBj"
      },
      "execution_count": null,
      "outputs": []
    },
    {
      "cell_type": "code",
      "source": [
        "def get_wordnet_pos(tag):\n",
        "    if tag.startswith('J'):\n",
        "        return wordnet.ADJ\n",
        "    elif tag.startswith('V'):\n",
        "        return wordnet.VERB\n",
        "    elif tag.startswith('N'):\n",
        "        return wordnet.NOUN\n",
        "    elif tag.startswith('R'):\n",
        "        return wordnet.ADV\n",
        "    else:\n",
        "        return wordnet.NOUN"
      ],
      "metadata": {
        "id": "405rA1EyJPBe"
      },
      "execution_count": null,
      "outputs": []
    },
    {
      "cell_type": "code",
      "source": [
        "df['cleaned_text'] = df['cleaned_text'].apply(lambda text: ' '.join([lemmatizer.lemmatize(word, get_wordnet_pos(pos_tag)) for word, pos_tag in pos_tag(word_tokenize(text))]))"
      ],
      "metadata": {
        "id": "WLYLOOS_JR7b"
      },
      "execution_count": null,
      "outputs": []
    },
    {
      "cell_type": "markdown",
      "source": [
        "##### Remove stop words, keywords, misread words, and other non-semantic contributing words \"AFTER LEMMETIZATION\""
      ],
      "metadata": {
        "id": "P3PgqlzTCSq8"
      }
    },
    {
      "cell_type": "code",
      "source": [
        "# Define additional_stop_words\n",
        "additional_stop_words = ['from', 'subject', 're', 'edu', 'use', 'also', 'first', 'may', 'want', 'data', 'many', 'however',\n",
        "                         'within', 'paper', 'research', 'although', 'across', 'based', 'conclusion', 'conclude', 'one',\n",
        "                         'the', 'method', 'show', 'among', 'two', 'due', 'we', 'this', 'in', 'project',\n",
        "                         'methodological', 'finding', 'new', 'large' , 'min' , ' max' , 'three' , 'set' ,\n",
        "                         'key' , 'take' , 'sc' , 'help' , 'main','model','case','right','find','show','goal','ltd',\n",
        "                         'low','high','factor', 'sustainability','study', 'supplychain', 'supplying', 'supplychains',\n",
        "                         'environmental', 'supplier', 'performance', 'product', 'production', 'industry', 'firm',\n",
        "                         'practice','system', 'supply', 'chain', 'chains' 'sustainable', 'supplied', 'supplier', 'suppliers', 'supplies',\n",
        "                         'management','â', 'analysis', 'impact', 'result', 'provide', 'propose', 'approach', 'develop', 'development']\n",
        "\n",
        "\n",
        "\n",
        "df['cleaned_text'] = df['cleaned_text'].apply(lambda text: ' '.join(word for word in word_tokenize(text) if word not in additional_stop_words))"
      ],
      "metadata": {
        "id": "McltV9qwCUua"
      },
      "execution_count": null,
      "outputs": []
    },
    {
      "cell_type": "markdown",
      "metadata": {
        "id": "q2VhBYs_4Zyq"
      },
      "source": [
        "##### Remove infrequent words\n"
      ]
    },
    {
      "cell_type": "code",
      "source": [
        "word_frequency = df['cleaned_text'].str.split(expand=True).stack().value_counts()\n",
        "infrequent_words = word_frequency[word_frequency < 2].index\n",
        "df['cleaned_text'] = df['cleaned_text'].apply(lambda text: ' '.join([word for word in word_tokenize(text) if word not in infrequent_words]))"
      ],
      "metadata": {
        "id": "3wi1KTnjC-Du"
      },
      "execution_count": null,
      "outputs": []
    },
    {
      "cell_type": "code",
      "execution_count": null,
      "metadata": {
        "id": "GMW4-ka9GAzH"
      },
      "outputs": [],
      "source": [
        "df.to_csv('/content/drive/MyDrive/Kiarash/New Codes/mahsa_data_after_preprocessing.csv')"
      ]
    }
  ],
  "metadata": {
    "accelerator": "GPU",
    "colab": {
      "collapsed_sections": [
        "1_8CH0QXjL1k",
        "pMBWucO3Yjye",
        "CZSi8nNfZGhR",
        "znVOic0S2Sho",
        "LyQgNXYaXmvQ",
        "JXmICJfu2bf-",
        "cAcoVUJv2d-R",
        "rXlDIXwB2D91",
        "tJ29aPKCGAzE",
        "UndTbQEnPL7Y",
        "ArJfWTq1CCVf",
        "P3PgqlzTCSq8",
        "q2VhBYs_4Zyq"
      ],
      "gpuType": "T4",
      "provenance": [],
      "include_colab_link": true
    },
    "kernelspec": {
      "display_name": "Python 3",
      "name": "python3"
    },
    "language_info": {
      "codemirror_mode": {
        "name": "ipython",
        "version": 3
      },
      "file_extension": ".py",
      "mimetype": "text/x-python",
      "name": "python",
      "nbconvert_exporter": "python",
      "pygments_lexer": "ipython3",
      "version": "3.11.4"
    }
  },
  "nbformat": 4,
  "nbformat_minor": 0
}